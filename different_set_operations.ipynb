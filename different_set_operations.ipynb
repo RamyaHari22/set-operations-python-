{
  "nbformat": 4,
  "nbformat_minor": 0,
  "metadata": {
    "colab": {
      "provenance": []
    },
    "kernelspec": {
      "name": "python3",
      "display_name": "Python 3"
    },
    "language_info": {
      "name": "python"
    }
  },
  "cells": [
    {
      "cell_type": "code",
      "execution_count": 1,
      "metadata": {
        "colab": {
          "base_uri": "https://localhost:8080/"
        },
        "id": "qbT0CO8YshrR",
        "outputId": "c936e12e-966c-45c1-fac9-728ad1544626"
      },
      "outputs": [
        {
          "output_type": "stream",
          "name": "stdout",
          "text": [
            "Union of E and N is {0, 1, 2, 3, 4, 5, 6, 8}\n",
            "Intersection of E and N is {2, 4}\n",
            "Difference of E and N is {0, 8, 6}\n",
            "Symmetric difference of E and N is {0, 1, 3, 5, 6, 8}\n"
          ]
        }
      ],
      "source": [
        "# Define two sets\n",
        "E = {0, 2, 4, 6, 8}\n",
        "N = {1, 2, 3, 4, 5}\n",
        "\n",
        "# Perform set operations\n",
        "union_result = E | N  # Union\n",
        "intersection_result = E & N  # Intersection\n",
        "difference_result = E - N  # Difference\n",
        "symmetric_difference_result = E ^ N  # Symmetric Difference\n",
        "\n",
        "# Display results\n",
        "print(\"Union of E and N is\", union_result)\n",
        "print(\"Intersection of E and N is\", intersection_result)\n",
        "print(\"Difference of E and N is\", difference_result)\n",
        "print(\"Symmetric difference of E and N is\", symmetric_difference_result)\n"
      ]
    }
  ]
}